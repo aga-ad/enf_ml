{
 "cells": [
  {
   "cell_type": "code",
   "execution_count": 17,
   "metadata": {
    "collapsed": false
   },
   "outputs": [
    {
     "name": "stdout",
     "output_type": "stream",
     "text": [
      "The autoreload extension is already loaded. To reload it, use:\n",
      "  %reload_ext autoreload\n"
     ]
    },
    {
     "data": {
      "application/javascript": [
       "IPython.notebook.set_autosave_interval(15000)"
      ]
     },
     "metadata": {},
     "output_type": "display_data"
    },
    {
     "name": "stdout",
     "output_type": "stream",
     "text": [
      "Autosaving every 15 seconds\n"
     ]
    }
   ],
   "source": [
    "%matplotlib inline\n",
    "%load_ext autoreload\n",
    "%autoreload 5\n",
    "%autosave 15\n",
    "\n",
    "import sklearn as sk\n",
    "import numpy as np\n",
    "import scipy as sp\n",
    "import pandas as pd\n",
    "import matplotlib as mpl\n",
    "import matplotlib.pyplot as plt\n",
    "\n",
    "from numpy.linalg import inv, det\n",
    "from math import pi, sqrt\n",
    "from copy import copy\n",
    "import math\n",
    "import pickle\n",
    "import random\n"
   ]
  },
  {
   "cell_type": "code",
   "execution_count": 18,
   "metadata": {
    "collapsed": false
   },
   "outputs": [],
   "source": [
    "def open_pickle(name):\n",
    "    with open(name, 'rb') as f:\n",
    "        u = pickle._Unpickler(f)\n",
    "        u.encoding = 'latin1'\n",
    "        x, y = u.load()\n",
    "        return (x, y)\n",
    "\n",
    "def graph(func, x_range, label):  \n",
    "    x = np.array(x_range)  \n",
    "    y = np.apply_along_axis(func, 0, x)\n",
    "    plt.plot(x, y, label=label)\n",
    "    plt.legend(loc='best')\n",
    "\n",
    "def diff(a, b):\n",
    "    res = 0\n",
    "    for i in range(len(a)):\n",
    "        res += (a[i] - b[i]) ** 2\n",
    "    res = sqrt(res / len(a))\n",
    "    return res\n",
    "    \n",
    "def kfold(k, x, y, linear_regression):\n",
    "    p = np.concatenate((x, y), axis=1)\n",
    "    random.shuffle(p)\n",
    "    res = 0\n",
    "    folds = [[] for _ in range(k)]\n",
    "    for i in range(len(p)):\n",
    "        folds[i % k].append(p[i])\n",
    "    folds = np.array(folds)\n",
    "    for i in range(k):\n",
    "        train = []\n",
    "        for j in range(k):\n",
    "            if i == j:\n",
    "                continue\n",
    "            train.extend(folds[j])\n",
    "        lr = copy(linear_regression)\n",
    "        lr.fit(train)\n",
    "        ans = lr.predict(folds[i][:,:-1])\n",
    "        res += diff(ans, folds[i][:,-1])\n",
    "    res = res / k\n",
    "    return res\n",
    "\n",
    "def loo(x, y, linear_regression):\n",
    "    return kfold(len(y), x, y, linear_regression)\n",
    "        "
   ]
  },
  {
   "cell_type": "code",
   "execution_count": 19,
   "metadata": {
    "collapsed": false
   },
   "outputs": [
    {
     "name": "stdout",
     "output_type": "stream",
     "text": [
      "y=-1/2 + x/2\n",
      "\n",
      "B:  [-0.5  0.5] \n",
      "R2:  1.0 \n",
      "ESS:  4.99201041585e-30 \n",
      "TSS 4.66666666667 \n",
      "\n",
      "y = x^2\n",
      "\n",
      "B:  [ 0.  0.  1.] \n",
      "R2:  1.0 \n",
      "ESS:  0.0 \n",
      "TSS 0.666666666667 \n",
      "\n",
      "y = 3 + x + sin(x)\n",
      "B:  [ 3.  1.  1.] \n",
      "R2:  1.0 \n",
      "ESS:  1.97215226305e-31 \n",
      "TSS 20.6201908085 \n",
      "\n",
      "z = x^2 + z^2\n",
      "B:  [  1.22035715e-12  -6.66133815e-14   1.00000000e+00  -7.37188088e-14\n",
      "   1.00000000e+00] \n",
      "R2:  1.0 \n",
      "ESS:  8.9331512646e-24 \n",
      "TSS 7401.33333333 \n",
      "\n"
     ]
    }
   ],
   "source": [
    "class LinearRegression:\n",
    "    def __init__(self, mod, funcs=None, max_pow=None):\n",
    "        if mod == \"linear\":\n",
    "            self.mod = \"linear\"\n",
    "        elif mod == \"polinom\" and max_pow != None:\n",
    "            self.mod = \"polinom\"\n",
    "            self.max_pow = max_pow\n",
    "        elif mod == \"func\" and funcs != None:\n",
    "            self.mod = \"func\"\n",
    "            self.funcs = funcs\n",
    "        else:\n",
    "            raise ValueError('wrong mod: ', mod, funcs, max_pow)\n",
    "    \n",
    "    #def fit(self, x, y):\n",
    "    #def fit(self, points):\n",
    "    def fit(self, a1, a2=None):\n",
    "        if a2 is None:\n",
    "            points = a1\n",
    "        else:\n",
    "            points = np.concatenate((a1, a2), axis=1)\n",
    "        x = []\n",
    "        y = []\n",
    "        self.point_size = len(points[0])\n",
    "        for p in points:\n",
    "            y.append(p[-1])\n",
    "            features = [1]\n",
    "            for dim in p[:-1]:\n",
    "                features.append(dim)\n",
    "                if self.mod == 'polinom':\n",
    "                    for power in range(2, self.max_pow + 1):\n",
    "                        features.append(dim ** power)\n",
    "                elif self.mod == 'func':\n",
    "                    for func in self.funcs:\n",
    "                        features.append(func(dim))\n",
    "            x.append(features)\n",
    "        x = np.array(x)\n",
    "        y = np.array(y)\n",
    "        t = x.T\n",
    "        b = np.dot(np.dot(inv(np.dot(t, x)), t), y)\n",
    "        self.ess = sum((np.dot(x, b.T) - y) ** 2)\n",
    "        my = np.mean(y)\n",
    "        self.tss = sum((my - y) ** 2)\n",
    "        self.r2 = 1 - self.ess / self.tss\n",
    "        self.b = b\n",
    "    \n",
    "    def predict(self, X):\n",
    "        y = []\n",
    "        for x in X:\n",
    "            t = self.b[0]\n",
    "            l = 1\n",
    "            for dim in x:\n",
    "                t += self.b[l] * dim\n",
    "                l += 1\n",
    "                if self.mod == 'polinom':\n",
    "                    for power in range(2, self.max_pow + 1):\n",
    "                        t += self.b[l] * dim ** power\n",
    "                        l += 1\n",
    "                elif self.mod == 'func':\n",
    "                    for func in self.funcs:\n",
    "                        t += self.b[l] * func(dim)\n",
    "                        l += 1\n",
    "            y.append(t)\n",
    "        return y\n",
    "        \n",
    "    def info(self):\n",
    "        print (\"B: \", self.b, \"\\nR2: \", self.r2, \"\\nESS: \", self.ess, \"\\nTSS\", self.tss, \"\\n\")\n",
    "        \n",
    "    def get_func_dim1(self):\n",
    "        if self.mod == 'linear':\n",
    "            def f(x):\n",
    "                return self.b[0] + self.b[1] * x\n",
    "            return f\n",
    "        elif self.mod == 'polinom':\n",
    "            def f(x):\n",
    "                res = self.b[0]\n",
    "                for i in range(1, len(self.b)):\n",
    "                    res += self.b[i] * x ** i\n",
    "                return res\n",
    "            return f\n",
    "        elif self.mod == 'func':\n",
    "            def f(x):\n",
    "                res = self.b[0] + self.b[1] * x\n",
    "                for i in range(2, len(self.b)):\n",
    "                    res += self.b[i] * self.funcs[i - 2](x)\n",
    "                return res\n",
    "            return f\n",
    "\n",
    "p = [[1, 0], [3, 1], [7, 3]]\n",
    "lr = LinearRegression('linear')\n",
    "lr.fit(p)\n",
    "print(\"y=-1/2 + x/2\\n\")\n",
    "lr.info()\n",
    "\n",
    "p = [[0, 0], [-1, 1], [1, 1]]\n",
    "lr = LinearRegression('polinom', max_pow=2)\n",
    "lr.fit(p)\n",
    "print(\"y = x^2\\n\")\n",
    "lr.info()\n",
    "\n",
    "p = [[-pi/2, -pi/2 + 2], [0, 3], [pi/2, pi/2 + 4], [pi, pi + 3]]\n",
    "funcs = [lambda x: math.sin(x)]\n",
    "lr = LinearRegression('func', funcs=funcs)\n",
    "lr.fit(p)\n",
    "print(\"y = 3 + x + sin(x)\")\n",
    "lr.info()\n",
    "\n",
    "\n",
    "p = [[0, 0, 0], [1, 0, 1], [0, 1, 1], [4, 3, 25], [3, -4, 25], [-10, 0, 100]]\n",
    "lr = LinearRegression('polinom', max_pow=2)\n",
    "lr.fit(p)\n",
    "print(\"z = x^2 + z^2\")\n",
    "lr.info()"
   ]
  },
  {
   "cell_type": "code",
   "execution_count": 20,
   "metadata": {
    "collapsed": false
   },
   "outputs": [
    {
     "name": "stdout",
     "output_type": "stream",
     "text": [
      "kfold cv 0.13076950719783195\n",
      "loo cv 0.1073052973701364\n",
      "B:  [ 4.00907274 -0.49868693] \n",
      "R2:  0.989532021467 \n",
      "ESS:  5.73608676891 \n",
      "TSS 547.965087117 \n",
      "\n"
     ]
    },
    {
     "data": {
      "image/png": "[encoded data removed]",
      "text/plain": [
       "<matplotlib.figure.Figure at 0x7f182a481438>"
      ]
     },
     "metadata": {},
     "output_type": "display_data"
    }
   ],
   "source": [
    "x, y = open_pickle('task2_dataset_1.txt')\n",
    "plt.plot(x, y, 'ro')\n",
    "lr = LinearRegression('linear')\n",
    "print(\"kfold cv\", kfold(5, x, y, lr))\n",
    "print(\"loo cv\", loo(x, y, lr))\n",
    "\n",
    "lr.fit(x, y)\n",
    "lr.info()\n",
    "graph(lr.get_func_dim1(), range(math.floor(min(x)), math.ceil(max(x + 1))), 'a + bx')\n",
    "plt.show()"
   ]
  },
  {
   "cell_type": "code",
   "execution_count": 26,
   "metadata": {
    "collapsed": false
   },
   "outputs": [
    {
     "name": "stdout",
     "output_type": "stream",
     "text": [
      "a + b * x + c * tg(x/10)\n",
      "kfold cv 0.46588288415036916\n",
      "loo cv 0.3740971336955835\n",
      "B:  [  -0.6556557    12.56996259 -130.92345074] \n",
      "R2:  0.983647313462 \n",
      "ESS:  51.8909346767 \n",
      "TSS 3173.23606459 \n",
      "\n",
      "polinom 3\n",
      "kfold cv 0.3115722146124448\n",
      "loo cv 0.25450279297670186\n",
      "B:  [-1.02167555 -0.49117246  0.0471008  -0.0503415 ] \n",
      "R2:  0.99288029882 \n",
      "ESS:  22.5924925545 \n",
      "TSS 3173.23606459 \n",
      "\n"
     ]
    },
    {
     "data": {
      "image/png": "[encoded data removed]",
      "text/plain": [
       "<matplotlib.figure.Figure at 0x7f182a5b0668>"
      ]
     },
     "metadata": {},
     "output_type": "display_data"
    }
   ],
   "source": [
    "x, y = open_pickle('task2_dataset_2.txt')\n",
    "plt.plot(x, y, 'ro')\n",
    "\n",
    "funcs = [lambda x:np.tan(x/10)]\n",
    "lr1 = LinearRegression(mod='func', funcs=funcs)\n",
    "lr1.fit(x, y)\n",
    "description = \"a + b * x + c * tg(x/10)\"\n",
    "print(description)\n",
    "print(\"kfold cv\", kfold(5, x, y, lr1))\n",
    "print(\"loo cv\", loo(x, y, lr1))\n",
    "lr1.info()\n",
    "graph(lr1.get_func_dim1(), np.arange(min(x) - 1, max(x) + 1, 0.01), description)\n",
    "\n",
    "P = 3\n",
    "lr2 = LinearRegression(mod='polinom', max_pow=P)\n",
    "lr2.fit(x, y)\n",
    "description = \"polinom %d\" % P\n",
    "print(description)\n",
    "print(\"kfold cv\", kfold(5, x, y, lr2))\n",
    "print(\"loo cv\", loo(x, y, lr2))\n",
    "lr2.info()\n",
    "graph(lr2.get_func_dim1(), np.arange(min(x) - 1, max(x) + 1, 0.01), description)\n",
    "\n",
    "plt.show()"
   ]
  },
  {
   "cell_type": "code",
   "execution_count": 31,
   "metadata": {
    "collapsed": false
   },
   "outputs": [
    {
     "name": "stdout",
     "output_type": "stream",
     "text": [
      "a + bx + c * sin x\n",
      "kfold cv 0.25859064026488554\n",
      "loo cv 0.20721231315104005\n",
      "B:  [ 0.43721861  0.30332599  2.94484163] \n",
      "R2:  0.985080747168 \n",
      "ESS:  17.8645994954 \n",
      "TSS 1197.41918019 \n",
      "\n",
      "polinom 9\n",
      "kfold cv 0.199681314280394\n",
      "loo cv 0.15981645688739374\n",
      "B:  [ -5.29365356e+00   1.62199198e+01  -1.36418998e+01   7.64670097e+00\n",
      "  -2.96355944e+00   7.07827794e-01  -9.96811566e-02   8.06299585e-03\n",
      "  -3.47114073e-04   6.17765865e-06] \n",
      "R2:  0.99167418923 \n",
      "ESS:  9.96948550694 \n",
      "TSS 1197.41918019 \n",
      "\n"
     ]
    },
    {
     "data": {
      "image/png": "[encoded data removed]",
      "text/plain": [
       "<matplotlib.figure.Figure at 0x7f182a685240>"
      ]
     },
     "metadata": {},
     "output_type": "display_data"
    }
   ],
   "source": [
    "x, y = open_pickle('task2_dataset_3.txt')\n",
    "plt.plot(x, y, 'ro')\n",
    "p = np.concatenate((x, y), axis=1)\n",
    "\n",
    "funcs = [lambda x:np.sin(x)]\n",
    "description = \"a + bx + c * sin x\"\n",
    "lr1 = LinearRegression(mod='func', funcs=funcs)\n",
    "lr1.fit(x, y)\n",
    "print(description)\n",
    "print(\"kfold cv\", kfold(5, x, y, lr1))\n",
    "print(\"loo cv\", loo(x, y, lr1))\n",
    "lr1.info()\n",
    "graph(lr1.get_func_dim1(), np.arange(min(x) - 1, max(x) + 1, 0.01), description)\n",
    "\n",
    "P = 9\n",
    "description = \"polinom %d\" % P\n",
    "lr2 = LinearRegression(mod='polinom', max_pow=P)\n",
    "lr2.fit(x, y)\n",
    "print(description)\n",
    "print(\"kfold cv\", kfold(5, x, y, lr2))\n",
    "print(\"loo cv\", loo(x, y, lr2))\n",
    "lr2.info()\n",
    "graph(lr2.get_func_dim1(), np.arange(min(x) - 1, max(x) + 1, 0.01), description)\n",
    "\n",
    "plt.show()"
   ]
  }
 ],
 "metadata": {
  "kernelspec": {
   "display_name": "Python 3",
   "language": "python",
   "name": "python3"
  },
  "language_info": {
   "codemirror_mode": {
    "name": "ipython",
    "version": 3
   },
   "file_extension": ".py",
   "mimetype": "text/x-python",
   "name": "python",
   "nbconvert_exporter": "python",
   "pygments_lexer": "ipython3",
   "version": "3.5.1"
  }
 },
 "nbformat": 4,
 "nbformat_minor": 0
}
