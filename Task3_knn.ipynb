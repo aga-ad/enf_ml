{
 "cells": [
  {
   "cell_type": "code",
   "execution_count": 131,
   "metadata": {
    "collapsed": false
   },
   "outputs": [
    {
     "name": "stdout",
     "output_type": "stream",
     "text": [
      "The autoreload extension is already loaded. To reload it, use:\n",
      "  %reload_ext autoreload\n"
     ]
    },
    {
     "data": {
      "application/javascript": [
       "IPython.notebook.set_autosave_interval(15000)"
      ]
     },
     "metadata": {},
     "output_type": "display_data"
    },
    {
     "name": "stdout",
     "output_type": "stream",
     "text": [
      "Autosaving every 15 seconds\n"
     ]
    }
   ],
   "source": [
    "%matplotlib inline\n",
    "%load_ext autoreload\n",
    "%autoreload 5\n",
    "%autosave 15\n",
    "\n",
    "import sklearn as sk\n",
    "import numpy as np\n",
    "import scipy as sp\n",
    "import pandas as pd\n",
    "import matplotlib as mpl\n",
    "import matplotlib.pyplot as plt\n",
    "\n",
    "from sklearn.cross_validation import KFold\n",
    "from sklearn.metrics import accuracy_score\n",
    "from sklearn.neighbors import KNeighborsClassifier\n",
    "from sklearn import preprocessing\n",
    "\n",
    "import pickle\n",
    "import copy\n",
    "\n",
    "def open_pickle(name):\n",
    "    with open(name, 'rb') as f:\n",
    "        u = pickle._Unpickler(f)\n",
    "        u.encoding = 'latin1'\n",
    "        x, y = u.load()\n",
    "        return (x, y)"
   ]
  },
  {
   "cell_type": "code",
   "execution_count": 180,
   "metadata": {
    "collapsed": false
   },
   "outputs": [],
   "source": [
    "class KNNClassificator:\n",
    "    \n",
    "    def __init__(self, k, metric, minkovski_k=None, fair_k=True):\n",
    "        self.k = k\n",
    "        self.fair_k = fair_k\n",
    "        if hasattr(metric, '__call__'):\n",
    "            self.metric = metric\n",
    "        elif metric == 'euclidean2':\n",
    "            def euclidean2(a, b):\n",
    "                t = 0\n",
    "                for i in range(min(len(a), len(b))):\n",
    "                    t += (a[i] - b[i]) ** 2\n",
    "                return t\n",
    "            self.metric = euclidean2\n",
    "        elif metric == 'minkovski' and minkovski_k != None:\n",
    "            self.minkovski_k = minkovski_k\n",
    "            def minkovski(a, b):\n",
    "                t = 0\n",
    "                for i in range(min(len(a), len(b))):\n",
    "                    t += (a[i] - b[i]) ** minkovski_k\n",
    "                return t ** (1 / self.minkovski_k)\n",
    "            self.metric = minkovski\n",
    "        elif metric == 'module':\n",
    "            def module(a, b):\n",
    "                t = 0\n",
    "                for i in range(min(len(a), len(b))):\n",
    "                    t += np.abs(a[i] - b[i])\n",
    "                return t\n",
    "            self.metric = module\n",
    "        else:\n",
    "            raise ValueError('Wrong metric')\n",
    "    \n",
    "    def fit(self, x, y, w=None):\n",
    "        assert(len(x) == len(y))\n",
    "        self.X = x\n",
    "        self.Y = y\n",
    "        if w == None:\n",
    "            self.W = [1 for _ in y]\n",
    "        else:\n",
    "            assert(len(x) == len(w))\n",
    "            self.W = w\n",
    "    \n",
    "    def set_k(self, k):\n",
    "        self.k = k\n",
    "    \n",
    "    \n",
    "    def predict1(self, x):\n",
    "        dist = np.apply_along_axis(lambda cur: self.metric(cur, x), 1, self.X)\n",
    "        args = np.argsort(dist)\n",
    "        b = {}\n",
    "        k = self.k\n",
    "        if self.fair_k:# несильно помогает, но почему бы и нет?\n",
    "            while (np.abs(dist[args[k - 1]] - dist[args[k]]) < 0.00001 and k < len(args)):\n",
    "                k += 1\n",
    "        for i in range(k):\n",
    "            arg = args[i]\n",
    "            if self.Y[arg] in b:\n",
    "                b[self.Y[arg]] += self.W[arg] \n",
    "            else:\n",
    "                b[self.Y[arg]] = self.W[arg] * (k + 1 - i)\n",
    "                \n",
    "        max_key = None\n",
    "        max_value = 0\n",
    "        for key in b:\n",
    "            if b[key] > max_value:\n",
    "                max_values = b[key]\n",
    "                max_key = key\n",
    "        return max_key\n",
    "    \n",
    "    def predict(self, x):\n",
    "        res = []\n",
    "        for i in x:\n",
    "            res.append(self.predict1(i))\n",
    "        return res"
   ]
  },
  {
   "cell_type": "code",
   "execution_count": 177,
   "metadata": {
    "collapsed": false
   },
   "outputs": [
    {
     "name": "stdout",
     "output_type": "stream",
     "text": [
      "norm sklearn knnc k = 3, metric=euclidean2                    0.977333333333\n",
      "norm sklearn knnc k = 5, metric=euclidean2                    0.974\n",
      "norm sklearn knnc k = 9, metric=euclidean2                    0.97\n",
      "sklearn knnc k = 9, metric=euclidean2                         0.968\n",
      "norm my knnc k = 1, metric=module                             0.966666666667\n",
      "norm my knnc k = 1, metric=euclidean2                         0.964\n",
      "norm sklearn knnc k = 1, metric=euclidean2                    0.964\n",
      "norm my knnc k = 3, metric=euclidean2                         0.963333333333\n",
      "norm my knnc k = 3, metric=module                             0.958666666667\n",
      "sklearn knnc k = 5, metric=euclidean2                         0.958\n",
      "sklearn knnc k = 3, metric=euclidean2                         0.957333333333\n",
      "my knnc k = 1, metric=euclidean2                              0.956\n",
      "sklearn knnc k = 1, metric=euclidean2                         0.954666666667\n",
      "my knnc k = 1, metric=module                                  0.954\n",
      "my knnc k = 3, metric=module                                  0.951333333333\n",
      "my knnc k = 3, metric=euclidean2                              0.95\n",
      "my knnc k = 5, metric=euclidean2                              0.943333333333\n",
      "norm my knnc k = 5, metric=euclidean2                         0.942\n",
      "norm my knnc k = 5, metric=module                             0.940666666667\n",
      "my knnc k = 5, metric=module                                  0.929333333333\n",
      "norm my knnc k = 9, metric=euclidean2                         0.924666666667\n",
      "norm my knnc k = 9, metric=module                             0.924666666667\n",
      "my knnc k = 9, metric=euclidean2                              0.902\n",
      "my knnc k = 9, metric=module                                  0.9\n"
     ]
    }
   ],
   "source": [
    "x, y = open_pickle('iris.txt')\n",
    "\n",
    "def cv(x, y, classificator, n_folds=5, k_iter=10):\n",
    "    res = 0\n",
    "    for state in range(k_iter):\n",
    "        ires = 0\n",
    "        kf = KFold(n=len(y), n_folds=n_folds, shuffle=True, random_state=state + 10)\n",
    "        for train_index, test_index in kf:\n",
    "            x_train, x_test = x[train_index], x[test_index]\n",
    "            y_train, y_test = y[train_index], y[test_index]\n",
    "            cl = copy.copy(classificator)\n",
    "            cl.fit(x_train, y_train)\n",
    "            y_pred = cl.predict(x_test)\n",
    "            ires += accuracy_score(y_test, y_pred)\n",
    "        res += ires / n_folds\n",
    "    res = res / k_iter\n",
    "    return res\n",
    "\n",
    "\n",
    "top = []\n",
    "top.append(['my knnc k = 1, metric=euclidean2', cv(x, y, KNNClassificator(1, metric='euclidean2'))])\n",
    "top.append(['my knnc k = 3, metric=euclidean2', cv(x, y, KNNClassificator(3, metric='euclidean2'))])\n",
    "top.append(['my knnc k = 5, metric=euclidean2', cv(x, y, KNNClassificator(5, metric='euclidean2'))])\n",
    "top.append(['my knnc k = 9, metric=euclidean2', cv(x, y, KNNClassificator(9, metric='euclidean2'))])\n",
    "\n",
    "top.append(['my knnc k = 1, metric=module', cv(x, y, KNNClassificator(1, metric='module'))])\n",
    "top.append(['my knnc k = 3, metric=module', cv(x, y, KNNClassificator(3, metric='module'))])\n",
    "top.append(['my knnc k = 5, metric=module', cv(x, y, KNNClassificator(5, metric='module'))])\n",
    "top.append(['my knnc k = 9, metric=module', cv(x, y, KNNClassificator(9, metric='module'))])\n",
    "\n",
    "top.append(['sklearn knnc k = 1, metric=euclidean2', cv(x, y, KNeighborsClassifier(n_neighbors=1, algorithm='brute'))])\n",
    "top.append(['sklearn knnc k = 3, metric=euclidean2', cv(x, y, KNeighborsClassifier(n_neighbors=3, algorithm='brute'))])\n",
    "top.append(['sklearn knnc k = 5, metric=euclidean2', cv(x, y, KNeighborsClassifier(n_neighbors=5, algorithm='brute'))])\n",
    "top.append(['sklearn knnc k = 9, metric=euclidean2', cv(x, y, KNeighborsClassifier(n_neighbors=9, algorithm='brute'))])\n",
    "\n",
    "preprocessing.normalize(x, norm='l2', copy=False)\n",
    "\n",
    "top.append(['norm my knnc k = 1, metric=euclidean2', cv(x, y, KNNClassificator(1, metric='euclidean2'))])\n",
    "top.append(['norm my knnc k = 3, metric=euclidean2', cv(x, y, KNNClassificator(3, metric='euclidean2'))])\n",
    "top.append(['norm my knnc k = 5, metric=euclidean2', cv(x, y, KNNClassificator(5, metric='euclidean2'))])\n",
    "top.append(['norm my knnc k = 9, metric=euclidean2', cv(x, y, KNNClassificator(9, metric='euclidean2'))])\n",
    "\n",
    "top.append(['norm my knnc k = 1, metric=module', cv(x, y, KNNClassificator(1, metric='module'))])\n",
    "top.append(['norm my knnc k = 3, metric=module', cv(x, y, KNNClassificator(3, metric='module'))])\n",
    "top.append(['norm my knnc k = 5, metric=module', cv(x, y, KNNClassificator(5, metric='module'))])\n",
    "top.append(['norm my knnc k = 9, metric=module', cv(x, y, KNNClassificator(9, metric='module'))])\n",
    "\n",
    "top.append(['norm sklearn knnc k = 1, metric=euclidean2', cv(x, y, KNeighborsClassifier(n_neighbors=1, algorithm='brute'))])\n",
    "top.append(['norm sklearn knnc k = 3, metric=euclidean2', cv(x, y, KNeighborsClassifier(n_neighbors=3, algorithm='brute'))])\n",
    "top.append(['norm sklearn knnc k = 5, metric=euclidean2', cv(x, y, KNeighborsClassifier(n_neighbors=5, algorithm='brute'))])\n",
    "top.append(['norm sklearn knnc k = 9, metric=euclidean2', cv(x, y, KNeighborsClassifier(n_neighbors=9, algorithm='brute'))])\n",
    "\n",
    "top = sorted(top, key=lambda p:-p[1])\n",
    "\n",
    "for s, res in top:\n",
    "    print(s, (60 - len(s)) * ' ', res)\n",
    "                                                             "
   ]
  },
  {
   "cell_type": "code",
   "execution_count": 182,
   "metadata": {
    "collapsed": false
   },
   "outputs": [
    {
     "name": "stdout",
     "output_type": "stream",
     "text": [
      "0.976 [2, 2, True]\n"
     ]
    }
   ],
   "source": [
    "x, y = open_pickle('iris.txt')\n",
    "preprocessing.normalize(x, norm='l2', copy=False)\n",
    "\n",
    "best_score = 0\n",
    "best = []\n",
    "for k in range(1, 21):\n",
    "    for p in range(2, 5):\n",
    "        for fair_k in [True, False]:\n",
    "            score = cv(x, y, KNNClassificator(k, metric='minkovski', minkovski_k=p, fair_k=fair_k),\n",
    "                       n_folds=5, k_iter=5)\n",
    "            if best_score < score:\n",
    "                best_score = score\n",
    "                best = [k, p, fair_k]\n",
    "print(best_score, best)"
   ]
  }
 ],
 "metadata": {
  "kernelspec": {
   "display_name": "Python 3",
   "language": "python",
   "name": "python3"
  },
  "language_info": {
   "codemirror_mode": {
    "name": "ipython",
    "version": 3
   },
   "file_extension": ".py",
   "mimetype": "text/x-python",
   "name": "python",
   "nbconvert_exporter": "python",
   "pygments_lexer": "ipython3",
   "version": "3.5.1"
  }
 },
 "nbformat": 4,
 "nbformat_minor": 0
}
